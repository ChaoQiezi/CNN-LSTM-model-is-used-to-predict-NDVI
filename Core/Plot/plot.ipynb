{
 "cells": [
  {
   "cell_type": "code",
   "execution_count": 1,
   "metadata": {
    "collapsed": true
   },
   "outputs": [],
   "source": [
    "import os.path\n",
    "import pandas as pd\n",
    "import numpy as np\n",
    "import matplotlib.pyplot as plt\n",
    "import seaborn as sns\n",
    "\n",
    "# 准备\n",
    "ewtc_path = r'H:\\Datasets\\Objects\\Veg\\LXB_plot\\Data\\sw_EWTC_T.csv'\n",
    "twsc_path = r'H:\\Datasets\\Objects\\Veg\\LXB_plot\\Data\\sw_TWSC_SH_T.csv'\n",
    "ndvi_path = r'H:\\Datasets\\Objects\\Veg\\LXB_plot\\Data\\sw_NDVI_T.csv'\n",
    "out_dir = r'H:\\Datasets\\Objects\\Veg\\LXB_plot'\n",
    "sns.set_style('darkgrid')\n",
    "plt.rcParams['font.sans-serif'] = ['Times New Roman']  # 新罗马字体\n",
    "\n",
    "\n",
    "# 绘制\n",
    "ewtc = pd.read_csv(ewtc_path)\n",
    "twsc = pd.read_csv(twsc_path)\n",
    "ndvi = pd.read_csv(ndvi_path)\n",
    "awc = pd.merge(ewtc, twsc, left_on='ProvinceNa', right_on='ProvinceNa', suffixes=('_ewtc', '_twsc'))\n",
    "awc['AWC'] = awc['EWTC'] - awc['TWSC_SH']\n",
    "\n",
    "# 绘制NDVI年变化折线图和月变化柱状图\n",
    "ndvi_monthly = ndvi[['Month', 'NDVI']].groupby('Month').mean()\n",
    "ndvi_yearly = ndvi[['Year', 'NDVI']].groupby('Year').mean()\n",
    "ndvi_yearly['Year'] = ndvi_yearly.index\n",
    "ndvi_monthly['Month'] = ndvi_monthly.index"
   ]
  },
  {
   "cell_type": "code",
   "execution_count": 2,
   "outputs": [
    {
     "ename": "NoMatchingVersions",
     "evalue": "No matches for version='5.16.3' among ['4.0.2', '4.8.1', '4.17.0'].\nOften this can be fixed by updating altair_viewer:\n    pip install -U altair_viewer",
     "output_type": "error",
     "traceback": [
      "\u001B[1;31m---------------------------------------------------------------------------\u001B[0m",
      "\u001B[1;31mNoMatchingVersions\u001B[0m                        Traceback (most recent call last)",
      "Cell \u001B[1;32mIn[2], line 8\u001B[0m\n\u001B[0;32m      2\u001B[0m chart \u001B[38;5;241m=\u001B[39m alt\u001B[38;5;241m.\u001B[39mChart(ndvi_monthly)\u001B[38;5;241m.\u001B[39mmark_bar()\u001B[38;5;241m.\u001B[39mencode(\n\u001B[0;32m      3\u001B[0m     x\u001B[38;5;241m=\u001B[39m\u001B[38;5;124m'\u001B[39m\u001B[38;5;124mMonth\u001B[39m\u001B[38;5;124m'\u001B[39m,\n\u001B[0;32m      4\u001B[0m     y\u001B[38;5;241m=\u001B[39m\u001B[38;5;124m'\u001B[39m\u001B[38;5;124mNDVI\u001B[39m\u001B[38;5;124m'\u001B[39m\n\u001B[0;32m      5\u001B[0m )\n\u001B[0;32m      7\u001B[0m \u001B[38;5;66;03m# 显示图表\u001B[39;00m\n\u001B[1;32m----> 8\u001B[0m \u001B[43mchart\u001B[49m\u001B[38;5;241;43m.\u001B[39;49m\u001B[43mshow\u001B[49m\u001B[43m(\u001B[49m\u001B[43m)\u001B[49m\n",
      "File \u001B[1;32md:\\softwares\\python38\\lib\\site-packages\\altair\\vegalite\\v5\\api.py:2691\u001B[0m, in \u001B[0;36mTopLevelMixin.show\u001B[1;34m(self, embed_opt, open_browser)\u001B[0m\n\u001B[0;32m   2686\u001B[0m \u001B[38;5;28;01mexcept\u001B[39;00m \u001B[38;5;167;01mImportError\u001B[39;00m \u001B[38;5;28;01mas\u001B[39;00m err:\n\u001B[0;32m   2687\u001B[0m     \u001B[38;5;28;01mraise\u001B[39;00m \u001B[38;5;167;01mValueError\u001B[39;00m(\n\u001B[0;32m   2688\u001B[0m         \u001B[38;5;124m\"\u001B[39m\u001B[38;5;124m'\u001B[39m\u001B[38;5;124mshow\u001B[39m\u001B[38;5;124m'\u001B[39m\u001B[38;5;124m method requires the altair_viewer package. \u001B[39m\u001B[38;5;124m\"\u001B[39m\n\u001B[0;32m   2689\u001B[0m         \u001B[38;5;124m\"\u001B[39m\u001B[38;5;124mSee http://github.com/altair-viz/altair_viewer\u001B[39m\u001B[38;5;124m\"\u001B[39m\n\u001B[0;32m   2690\u001B[0m     ) \u001B[38;5;28;01mfrom\u001B[39;00m \u001B[38;5;21;01merr\u001B[39;00m\n\u001B[1;32m-> 2691\u001B[0m \u001B[43maltair_viewer\u001B[49m\u001B[38;5;241;43m.\u001B[39;49m\u001B[43mshow\u001B[49m\u001B[43m(\u001B[49m\u001B[38;5;28;43mself\u001B[39;49m\u001B[43m,\u001B[49m\u001B[43m \u001B[49m\u001B[43membed_opt\u001B[49m\u001B[38;5;241;43m=\u001B[39;49m\u001B[43membed_opt\u001B[49m\u001B[43m,\u001B[49m\u001B[43m \u001B[49m\u001B[43mopen_browser\u001B[49m\u001B[38;5;241;43m=\u001B[39;49m\u001B[43mopen_browser\u001B[49m\u001B[43m)\u001B[49m\n",
      "File \u001B[1;32md:\\softwares\\python38\\lib\\site-packages\\altair_viewer\\_viewer.py:355\u001B[0m, in \u001B[0;36mChartViewer.show\u001B[1;34m(self, chart, embed_opt, open_browser)\u001B[0m\n\u001B[0;32m    328\u001B[0m \u001B[38;5;28;01mdef\u001B[39;00m \u001B[38;5;21mshow\u001B[39m(\n\u001B[0;32m    329\u001B[0m     \u001B[38;5;28mself\u001B[39m,\n\u001B[0;32m    330\u001B[0m     chart: Union[\u001B[38;5;28mdict\u001B[39m, alt\u001B[38;5;241m.\u001B[39mTopLevelMixin],\n\u001B[0;32m    331\u001B[0m     embed_opt: Optional[\u001B[38;5;28mdict\u001B[39m] \u001B[38;5;241m=\u001B[39m \u001B[38;5;28;01mNone\u001B[39;00m,\n\u001B[0;32m    332\u001B[0m     open_browser: Optional[\u001B[38;5;28mbool\u001B[39m] \u001B[38;5;241m=\u001B[39m \u001B[38;5;28;01mNone\u001B[39;00m,\n\u001B[0;32m    333\u001B[0m ) \u001B[38;5;241m-\u001B[39m\u001B[38;5;241m>\u001B[39m \u001B[38;5;28;01mNone\u001B[39;00m:\n\u001B[0;32m    334\u001B[0m \u001B[38;5;250m    \u001B[39m\u001B[38;5;124;03m\"\"\"Show chart and prompt to pause execution.\u001B[39;00m\n\u001B[0;32m    335\u001B[0m \n\u001B[0;32m    336\u001B[0m \u001B[38;5;124;03m    Use this to show a chart within a stand-alone script, to prevent the Python process\u001B[39;00m\n\u001B[1;32m   (...)\u001B[0m\n\u001B[0;32m    353\u001B[0m \u001B[38;5;124;03m    render : Jupyter renderer for chart.\u001B[39;00m\n\u001B[0;32m    354\u001B[0m \u001B[38;5;124;03m    \"\"\"\u001B[39;00m\n\u001B[1;32m--> 355\u001B[0m     msg \u001B[38;5;241m=\u001B[39m \u001B[38;5;28;43mself\u001B[39;49m\u001B[38;5;241;43m.\u001B[39;49m\u001B[43mdisplay\u001B[49m\u001B[43m(\u001B[49m\u001B[43mchart\u001B[49m\u001B[43m,\u001B[49m\u001B[43m \u001B[49m\u001B[43membed_opt\u001B[49m\u001B[38;5;241;43m=\u001B[39;49m\u001B[43membed_opt\u001B[49m\u001B[43m,\u001B[49m\u001B[43m \u001B[49m\u001B[43mopen_browser\u001B[49m\u001B[38;5;241;43m=\u001B[39;49m\u001B[43mopen_browser\u001B[49m\u001B[43m)\u001B[49m\n\u001B[0;32m    356\u001B[0m     \u001B[38;5;28mprint\u001B[39m(msg)\n\u001B[0;32m    357\u001B[0m     \u001B[38;5;28;01mif\u001B[39;00m \u001B[38;5;28mself\u001B[39m\u001B[38;5;241m.\u001B[39m_provider \u001B[38;5;129;01mis\u001B[39;00m \u001B[38;5;129;01mnot\u001B[39;00m \u001B[38;5;28;01mNone\u001B[39;00m:\n",
      "File \u001B[1;32md:\\softwares\\python38\\lib\\site-packages\\altair_viewer\\_viewer.py:266\u001B[0m, in \u001B[0;36mChartViewer.display\u001B[1;34m(self, chart, inline, embed_opt, open_browser)\u001B[0m\n\u001B[0;32m    264\u001B[0m     chart \u001B[38;5;241m=\u001B[39m chart\u001B[38;5;241m.\u001B[39mto_dict()\n\u001B[0;32m    265\u001B[0m \u001B[38;5;28;01massert\u001B[39;00m \u001B[38;5;28misinstance\u001B[39m(chart, \u001B[38;5;28mdict\u001B[39m)\n\u001B[1;32m--> 266\u001B[0m \u001B[38;5;28;43mself\u001B[39;49m\u001B[38;5;241;43m.\u001B[39;49m\u001B[43m_initialize\u001B[49m\u001B[43m(\u001B[49m\u001B[43m)\u001B[49m\n\u001B[0;32m    267\u001B[0m \u001B[38;5;28;01mif\u001B[39;00m \u001B[38;5;28mself\u001B[39m\u001B[38;5;241m.\u001B[39m_stream \u001B[38;5;129;01mis\u001B[39;00m \u001B[38;5;28;01mNone\u001B[39;00m:\n\u001B[0;32m    268\u001B[0m     \u001B[38;5;28;01mraise\u001B[39;00m \u001B[38;5;167;01mRuntimeError\u001B[39;00m(\u001B[38;5;124m\"\u001B[39m\u001B[38;5;124mInternal: _stream is not defined.\u001B[39m\u001B[38;5;124m\"\u001B[39m)\n",
      "File \u001B[1;32md:\\softwares\\python38\\lib\\site-packages\\altair_viewer\\_viewer.py:183\u001B[0m, in \u001B[0;36mChartViewer._initialize\u001B[1;34m(self)\u001B[0m\n\u001B[0;32m    180\u001B[0m \u001B[38;5;28;01mif\u001B[39;00m \u001B[38;5;28mself\u001B[39m\u001B[38;5;241m.\u001B[39m_use_bundled_js:\n\u001B[0;32m    181\u001B[0m     \u001B[38;5;28;01mfor\u001B[39;00m package \u001B[38;5;129;01min\u001B[39;00m [\u001B[38;5;124m\"\u001B[39m\u001B[38;5;124mvega\u001B[39m\u001B[38;5;124m\"\u001B[39m, \u001B[38;5;124m\"\u001B[39m\u001B[38;5;124mvega-lite\u001B[39m\u001B[38;5;124m\"\u001B[39m, \u001B[38;5;124m\"\u001B[39m\u001B[38;5;124mvega-embed\u001B[39m\u001B[38;5;124m\"\u001B[39m]:\n\u001B[0;32m    182\u001B[0m         \u001B[38;5;28mself\u001B[39m\u001B[38;5;241m.\u001B[39m_resources[package] \u001B[38;5;241m=\u001B[39m \u001B[38;5;28mself\u001B[39m\u001B[38;5;241m.\u001B[39m_provider\u001B[38;5;241m.\u001B[39mcreate(\n\u001B[1;32m--> 183\u001B[0m             content\u001B[38;5;241m=\u001B[39m\u001B[43mget_bundled_script\u001B[49m\u001B[43m(\u001B[49m\n\u001B[0;32m    184\u001B[0m \u001B[43m                \u001B[49m\u001B[43mpackage\u001B[49m\u001B[43m,\u001B[49m\u001B[43m \u001B[49m\u001B[38;5;28;43mself\u001B[39;49m\u001B[38;5;241;43m.\u001B[39;49m\u001B[43m_versions\u001B[49m\u001B[38;5;241;43m.\u001B[39;49m\u001B[43mget\u001B[49m\u001B[43m(\u001B[49m\u001B[43mpackage\u001B[49m\u001B[43m)\u001B[49m\n\u001B[0;32m    185\u001B[0m \u001B[43m            \u001B[49m\u001B[43m)\u001B[49m,\n\u001B[0;32m    186\u001B[0m             route\u001B[38;5;241m=\u001B[39m\u001B[38;5;124mf\u001B[39m\u001B[38;5;124m\"\u001B[39m\u001B[38;5;124mscripts/\u001B[39m\u001B[38;5;132;01m{\u001B[39;00mpackage\u001B[38;5;132;01m}\u001B[39;00m\u001B[38;5;124m.js\u001B[39m\u001B[38;5;124m\"\u001B[39m,\n\u001B[0;32m    187\u001B[0m         )\n\u001B[0;32m    189\u001B[0m favicon \u001B[38;5;241m=\u001B[39m pkgutil\u001B[38;5;241m.\u001B[39mget_data(\u001B[38;5;124m\"\u001B[39m\u001B[38;5;124maltair_viewer\u001B[39m\u001B[38;5;124m\"\u001B[39m, \u001B[38;5;124m\"\u001B[39m\u001B[38;5;124mstatic/favicon.ico\u001B[39m\u001B[38;5;124m\"\u001B[39m)\n\u001B[0;32m    190\u001B[0m \u001B[38;5;28;01mif\u001B[39;00m favicon \u001B[38;5;129;01mis\u001B[39;00m \u001B[38;5;129;01mnot\u001B[39;00m \u001B[38;5;28;01mNone\u001B[39;00m:\n",
      "File \u001B[1;32md:\\softwares\\python38\\lib\\site-packages\\altair_viewer\\_scripts.py:40\u001B[0m, in \u001B[0;36mget_bundled_script\u001B[1;34m(package, version)\u001B[0m\n\u001B[0;32m     36\u001B[0m \u001B[38;5;28;01mif\u001B[39;00m package \u001B[38;5;129;01mnot\u001B[39;00m \u001B[38;5;129;01min\u001B[39;00m listing:\n\u001B[0;32m     37\u001B[0m     \u001B[38;5;28;01mraise\u001B[39;00m \u001B[38;5;167;01mValueError\u001B[39;00m(\n\u001B[0;32m     38\u001B[0m         \u001B[38;5;124mf\u001B[39m\u001B[38;5;124m\"\u001B[39m\u001B[38;5;124mpackage \u001B[39m\u001B[38;5;132;01m{\u001B[39;00mpackage\u001B[38;5;132;01m!r}\u001B[39;00m\u001B[38;5;124m not recognized. Available: \u001B[39m\u001B[38;5;132;01m{\u001B[39;00m\u001B[38;5;28mlist\u001B[39m(listing)\u001B[38;5;132;01m}\u001B[39;00m\u001B[38;5;124m\"\u001B[39m\n\u001B[0;32m     39\u001B[0m     )\n\u001B[1;32m---> 40\u001B[0m version_str \u001B[38;5;241m=\u001B[39m \u001B[43mfind_version\u001B[49m\u001B[43m(\u001B[49m\u001B[43mversion\u001B[49m\u001B[43m,\u001B[49m\u001B[43m \u001B[49m\u001B[43mlisting\u001B[49m\u001B[43m[\u001B[49m\u001B[43mpackage\u001B[49m\u001B[43m]\u001B[49m\u001B[43m)\u001B[49m\n\u001B[0;32m     41\u001B[0m path \u001B[38;5;241m=\u001B[39m \u001B[38;5;124mf\u001B[39m\u001B[38;5;124m\"\u001B[39m\u001B[38;5;124mscripts/\u001B[39m\u001B[38;5;132;01m{\u001B[39;00mpackage\u001B[38;5;132;01m}\u001B[39;00m\u001B[38;5;124m-\u001B[39m\u001B[38;5;132;01m{\u001B[39;00mversion_str\u001B[38;5;132;01m}\u001B[39;00m\u001B[38;5;124m.js\u001B[39m\u001B[38;5;124m\"\u001B[39m\n\u001B[0;32m     42\u001B[0m content \u001B[38;5;241m=\u001B[39m pkgutil\u001B[38;5;241m.\u001B[39mget_data(\u001B[38;5;124m\"\u001B[39m\u001B[38;5;124maltair_viewer\u001B[39m\u001B[38;5;124m\"\u001B[39m, path)\n",
      "File \u001B[1;32md:\\softwares\\python38\\lib\\site-packages\\altair_viewer\\_utils.py:212\u001B[0m, in \u001B[0;36mfind_version\u001B[1;34m(version, candidates, strict_micro)\u001B[0m\n\u001B[0;32m    210\u001B[0m matches \u001B[38;5;241m=\u001B[39m [c \u001B[38;5;28;01mfor\u001B[39;00m c \u001B[38;5;129;01min\u001B[39;00m cand \u001B[38;5;28;01mif\u001B[39;00m v\u001B[38;5;241m.\u001B[39mmatches(c)]\n\u001B[0;32m    211\u001B[0m \u001B[38;5;28;01mif\u001B[39;00m \u001B[38;5;129;01mnot\u001B[39;00m matches:\n\u001B[1;32m--> 212\u001B[0m     \u001B[38;5;28;01mraise\u001B[39;00m NoMatchingVersions(\n\u001B[0;32m    213\u001B[0m         \u001B[38;5;124mf\u001B[39m\u001B[38;5;124m\"\u001B[39m\u001B[38;5;124mNo matches for version=\u001B[39m\u001B[38;5;132;01m{\u001B[39;00mversion\u001B[38;5;132;01m!r}\u001B[39;00m\u001B[38;5;124m among \u001B[39m\u001B[38;5;132;01m{\u001B[39;00mcandidates\u001B[38;5;132;01m}\u001B[39;00m\u001B[38;5;124m.\u001B[39m\u001B[38;5;130;01m\\n\u001B[39;00m\u001B[38;5;124m\"\u001B[39m\n\u001B[0;32m    214\u001B[0m         \u001B[38;5;124m\"\u001B[39m\u001B[38;5;124mOften this can be fixed by updating altair_viewer:\u001B[39m\u001B[38;5;130;01m\\n\u001B[39;00m\u001B[38;5;124m\"\u001B[39m\n\u001B[0;32m    215\u001B[0m         \u001B[38;5;124m\"\u001B[39m\u001B[38;5;124m    pip install -U altair_viewer\u001B[39m\u001B[38;5;124m\"\u001B[39m\n\u001B[0;32m    216\u001B[0m     )\n\u001B[0;32m    217\u001B[0m \u001B[38;5;28;01mreturn\u001B[39;00m \u001B[38;5;28mstr\u001B[39m(matches[\u001B[38;5;241m-\u001B[39m\u001B[38;5;241m1\u001B[39m])\n",
      "\u001B[1;31mNoMatchingVersions\u001B[0m: No matches for version='5.16.3' among ['4.0.2', '4.8.1', '4.17.0'].\nOften this can be fixed by updating altair_viewer:\n    pip install -U altair_viewer"
     ]
    }
   ],
   "source": [
    "import altair as alt\n",
    "chart = alt.Chart(ndvi_monthly).mark_bar().encode(\n",
    "    x='Month',\n",
    "    y='NDVI'\n",
    ")\n",
    "\n",
    "# 显示图表\n",
    "chart.show()"
   ],
   "metadata": {
    "collapsed": false
   }
  },
  {
   "cell_type": "code",
   "execution_count": null,
   "outputs": [],
   "source": [],
   "metadata": {
    "collapsed": false
   }
  }
 ],
 "metadata": {
  "kernelspec": {
   "display_name": "Python 3",
   "language": "python",
   "name": "python3"
  },
  "language_info": {
   "codemirror_mode": {
    "name": "ipython",
    "version": 2
   },
   "file_extension": ".py",
   "mimetype": "text/x-python",
   "name": "python",
   "nbconvert_exporter": "python",
   "pygments_lexer": "ipython2",
   "version": "2.7.6"
  }
 },
 "nbformat": 4,
 "nbformat_minor": 0
}
